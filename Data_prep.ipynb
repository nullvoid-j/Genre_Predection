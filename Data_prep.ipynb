{
  "nbformat": 4,
  "nbformat_minor": 0,
  "metadata": {
    "colab": {
      "name": "Genre Predection.ipynb",
      "provenance": [],
      "collapsed_sections": [],
      "authorship_tag": "ABX9TyPMkkEJJVyNtNdmXJ9IM0Ih",
      "include_colab_link": true
    },
    "kernelspec": {
      "name": "python3",
      "display_name": "Python 3"
    }
  },
  "cells": [
    {
      "cell_type": "markdown",
      "metadata": {
        "id": "view-in-github",
        "colab_type": "text"
      },
      "source": [
        "<a href=\"https://colab.research.google.com/github/nullvoid-j/Genre_Predection/blob/master/Data_prep.ipynb\" target=\"_parent\"><img src=\"https://colab.research.google.com/assets/colab-badge.svg\" alt=\"Open In Colab\"/></a>"
      ]
    },
    {
      "cell_type": "code",
      "metadata": {
        "id": "GWin9QuDUvvG",
        "colab_type": "code",
        "outputId": "94f56bbe-5d61-44e0-c7fa-e343a3d3a3b4",
        "colab": {
          "base_uri": "https://localhost:8080/",
          "height": 34
        }
      },
      "source": [
        "#mounting google drive on colab\n",
        "from google.colab import drive\n",
        "drive.mount('/content/drive')"
      ],
      "execution_count": 0,
      "outputs": [
        {
          "output_type": "stream",
          "text": [
            "Drive already mounted at /content/drive; to attempt to forcibly remount, call drive.mount(\"/content/drive\", force_remount=True).\n"
          ],
          "name": "stdout"
        }
      ]
    },
    {
      "cell_type": "code",
      "metadata": {
        "id": "u_TSuLMmb_69",
        "colab_type": "code",
        "colab": {}
      },
      "source": [
        "import re\n",
        "from os import listdir\n",
        "from gensim.models import Word2Vec\n",
        "from gensim.models import KeyedVectors\n",
        "import pickle\n",
        "import numpy as np\n",
        "import pandas as pd\n",
        "import collections"
      ],
      "execution_count": 0,
      "outputs": []
    },
    {
      "cell_type": "code",
      "metadata": {
        "id": "X9ULXKdxW6uU",
        "colab_type": "code",
        "colab": {}
      },
      "source": [
        "#funtion to clean data\n",
        "def clean_data(data):\n",
        "    data=re.sub(r\"\\n\", \" \", data)   \n",
        "    data=re.sub(r\"[^a-zA-Z0-9]\", \" \", data)   \n",
        "    data=re.sub(r\"\\s\\s+\", \" \", data)   \n",
        "    data=data.lower() \n",
        "    return data"
      ],
      "execution_count": 0,
      "outputs": []
    },
    {
      "cell_type": "code",
      "metadata": {
        "id": "WIzUWTh_c0ye",
        "colab_type": "code",
        "outputId": "7c902c00-ead2-47c6-d997-1a212b3dbc05",
        "colab": {
          "base_uri": "https://localhost:8080/",
          "height": 34
        }
      },
      "source": [
        "files=listdir('/content/drive/My Drive/Movie Scripts data/')\n",
        "len(files)"
      ],
      "execution_count": 0,
      "outputs": [
        {
          "output_type": "execute_result",
          "data": {
            "text/plain": [
              "2837"
            ]
          },
          "metadata": {
            "tags": []
          },
          "execution_count": 4
        }
      ]
    },
    {
      "cell_type": "code",
      "metadata": {
        "id": "bRGeBsOxpyl_",
        "colab_type": "code",
        "outputId": "8ec37bb1-4f7b-41d9-bce2-93c4a5bb21d9",
        "colab": {
          "base_uri": "https://localhost:8080/",
          "height": 34
        }
      },
      "source": [
        "# print([item for item, count in collections.Counter(a).items() if count>1])"
      ],
      "execution_count": 0,
      "outputs": [
        {
          "output_type": "stream",
          "text": [
            "[1, 2, 5]\n"
          ],
          "name": "stdout"
        }
      ]
    },
    {
      "cell_type": "code",
      "metadata": {
        "id": "n9--wwJjd1lD",
        "colab_type": "code",
        "colab": {}
      },
      "source": [
        "list_of_docs=[]\n",
        "for file in files:\n",
        "  filtered_files=[]\n",
        "  file_data=open('/content/drive/My Drive/Movie Scripts data/'+file, 'r')\n",
        "  data=clean_data(file_data.read())\n",
        "  for w in data.split():\n",
        "    if w.isalpha():\n",
        "      filtered_files.append(w)\n",
        "    else:\n",
        "      continue\n",
        "  list_of_docs.append(filtered_files)\n",
        "  file_data.close()\n",
        "  print(file+' has been processed')"
      ],
      "execution_count": 0,
      "outputs": []
    },
    {
      "cell_type": "code",
      "metadata": {
        "id": "mqPHi60SpHrg",
        "colab_type": "code",
        "outputId": "0124b0ef-3f68-420b-f286-469a5c3ad6cc",
        "colab": {
          "base_uri": "https://localhost:8080/",
          "height": 34
        }
      },
      "source": [
        "len(list_of_docs)"
      ],
      "execution_count": 0,
      "outputs": [
        {
          "output_type": "execute_result",
          "data": {
            "text/plain": [
              "2837"
            ]
          },
          "metadata": {
            "tags": []
          },
          "execution_count": 6
        }
      ]
    },
    {
      "cell_type": "code",
      "metadata": {
        "id": "0HbVXQi0fCWZ",
        "colab_type": "code",
        "colab": {}
      },
      "source": [
        "# #training own w2v model\n",
        "# W2V_model=Word2Vec(list_of_docs, min_count=5, size=200, workers=4, seed=1)\n",
        "# W2V_model.save('self_trained_w2v.model')\n",
        "\n",
        "# words=list(W2V_model.wv.vocab)\n",
        "# print(len(words))"
      ],
      "execution_count": 0,
      "outputs": []
    },
    {
      "cell_type": "code",
      "metadata": {
        "id": "r6MJZYnVDhyd",
        "colab_type": "code",
        "outputId": "15880d1e-7f73-44b9-bd78-a8753c1b7b4d",
        "colab": {
          "base_uri": "https://localhost:8080/",
          "height": 136
        }
      },
      "source": [
        "#getting pre trained embedding file\n",
        "!wget -P /root/input/ -c \"https://s3.amazonaws.com/dl4j-distribution/GoogleNews-vectors-negative300.bin.gz\""
      ],
      "execution_count": 0,
      "outputs": [
        {
          "output_type": "stream",
          "text": [
            "--2020-04-05 12:26:40--  https://s3.amazonaws.com/dl4j-distribution/GoogleNews-vectors-negative300.bin.gz\n",
            "Resolving s3.amazonaws.com (s3.amazonaws.com)... 52.216.94.157\n",
            "Connecting to s3.amazonaws.com (s3.amazonaws.com)|52.216.94.157|:443... connected.\n",
            "HTTP request sent, awaiting response... 416 Requested Range Not Satisfiable\n",
            "\n",
            "    The file is already fully retrieved; nothing to do.\n",
            "\n"
          ],
          "name": "stdout"
        }
      ]
    },
    {
      "cell_type": "code",
      "metadata": {
        "id": "TUdiqfZqDwx1",
        "colab_type": "code",
        "outputId": "eb9d3b25-ccd9-4ca2-f2a9-67ddf26a98ef",
        "colab": {
          "base_uri": "https://localhost:8080/",
          "height": 71
        }
      },
      "source": [
        "#using google trained model\n",
        "w2v_google_model=KeyedVectors.load_word2vec_format('/root/input/GoogleNews-vectors-negative300.bin.gz', binary=True)"
      ],
      "execution_count": 0,
      "outputs": [
        {
          "output_type": "stream",
          "text": [
            "/usr/local/lib/python3.6/dist-packages/smart_open/smart_open_lib.py:410: UserWarning: This function is deprecated, use smart_open.open instead. See the migration notes for details: https://github.com/RaRe-Technologies/smart_open/blob/master/README.rst#migrating-to-the-new-open-function\n",
            "  'See the migration notes for details: %s' % _MIGRATION_NOTES_URL\n"
          ],
          "name": "stderr"
        }
      ]
    },
    {
      "cell_type": "code",
      "metadata": {
        "id": "wRC26ORRt79I",
        "colab_type": "code",
        "outputId": "8bfbb2bf-7923-42b5-ca37-636936f38890",
        "colab": {
          "base_uri": "https://localhost:8080/",
          "height": 71
        }
      },
      "source": [
        "#now computing average vector for each script\n",
        "doc_vec_list=[]\n",
        "for doc in list_of_docs:\n",
        "  doc_vec=np.zeros(300)\n",
        "  no_of_words=0\n",
        "  for word in doc:\n",
        "    try:\n",
        "      word_vec=w2v_google_model.wv[word]\n",
        "      doc_vec += word_vec\n",
        "      no_of_words += 1\n",
        "    except:\n",
        "      # print(\"There was an exception. Passing...\")\n",
        "      pass\n",
        "  doc_vec=doc_vec/no_of_words\n",
        "  doc_vec_list.append(doc_vec)\n"
      ],
      "execution_count": 0,
      "outputs": [
        {
          "output_type": "stream",
          "text": [
            "/usr/local/lib/python3.6/dist-packages/ipykernel_launcher.py:7: DeprecationWarning: Call to deprecated `wv` (Attribute will be removed in 4.0.0, use self instead).\n",
            "  import sys\n"
          ],
          "name": "stderr"
        }
      ]
    },
    {
      "cell_type": "code",
      "metadata": {
        "id": "Q5XxC5kXKHRW",
        "colab_type": "code",
        "outputId": "0ce99e4a-e33f-49cc-897a-947a5d1d371f",
        "colab": {
          "base_uri": "https://localhost:8080/",
          "height": 34
        }
      },
      "source": [
        "len(doc_vec_list)"
      ],
      "execution_count": 0,
      "outputs": [
        {
          "output_type": "execute_result",
          "data": {
            "text/plain": [
              "2837"
            ]
          },
          "metadata": {
            "tags": []
          },
          "execution_count": 10
        }
      ]
    },
    {
      "cell_type": "code",
      "metadata": {
        "id": "XurhzwrYKLpM",
        "colab_type": "code",
        "colab": {}
      },
      "source": [
        "vec_df=pd.DataFrame(data=doc_vec_list)\n",
        "file_name_df=pd.DataFrame(data=files)\n",
        "vec_df=vec_df.join(file_name_df, rsuffix='file')"
      ],
      "execution_count": 0,
      "outputs": []
    },
    {
      "cell_type": "code",
      "metadata": {
        "id": "910AsfzgWi4X",
        "colab_type": "code",
        "outputId": "19694700-02ca-42c5-9b55-c96df581b729",
        "colab": {
          "base_uri": "https://localhost:8080/",
          "height": 253
        }
      },
      "source": [
        "vec_df.head()"
      ],
      "execution_count": 0,
      "outputs": [
        {
          "output_type": "execute_result",
          "data": {
            "text/html": [
              "<div>\n",
              "<style scoped>\n",
              "    .dataframe tbody tr th:only-of-type {\n",
              "        vertical-align: middle;\n",
              "    }\n",
              "\n",
              "    .dataframe tbody tr th {\n",
              "        vertical-align: top;\n",
              "    }\n",
              "\n",
              "    .dataframe thead th {\n",
              "        text-align: right;\n",
              "    }\n",
              "</style>\n",
              "<table border=\"1\" class=\"dataframe\">\n",
              "  <thead>\n",
              "    <tr style=\"text-align: right;\">\n",
              "      <th></th>\n",
              "      <th>0</th>\n",
              "      <th>1</th>\n",
              "      <th>2</th>\n",
              "      <th>3</th>\n",
              "      <th>4</th>\n",
              "      <th>5</th>\n",
              "      <th>6</th>\n",
              "      <th>7</th>\n",
              "      <th>8</th>\n",
              "      <th>9</th>\n",
              "      <th>10</th>\n",
              "      <th>11</th>\n",
              "      <th>12</th>\n",
              "      <th>13</th>\n",
              "      <th>14</th>\n",
              "      <th>15</th>\n",
              "      <th>16</th>\n",
              "      <th>17</th>\n",
              "      <th>18</th>\n",
              "      <th>19</th>\n",
              "      <th>20</th>\n",
              "      <th>21</th>\n",
              "      <th>22</th>\n",
              "      <th>23</th>\n",
              "      <th>24</th>\n",
              "      <th>25</th>\n",
              "      <th>26</th>\n",
              "      <th>27</th>\n",
              "      <th>28</th>\n",
              "      <th>29</th>\n",
              "      <th>30</th>\n",
              "      <th>31</th>\n",
              "      <th>32</th>\n",
              "      <th>33</th>\n",
              "      <th>34</th>\n",
              "      <th>35</th>\n",
              "      <th>36</th>\n",
              "      <th>37</th>\n",
              "      <th>38</th>\n",
              "      <th>39</th>\n",
              "      <th>...</th>\n",
              "      <th>261</th>\n",
              "      <th>262</th>\n",
              "      <th>263</th>\n",
              "      <th>264</th>\n",
              "      <th>265</th>\n",
              "      <th>266</th>\n",
              "      <th>267</th>\n",
              "      <th>268</th>\n",
              "      <th>269</th>\n",
              "      <th>270</th>\n",
              "      <th>271</th>\n",
              "      <th>272</th>\n",
              "      <th>273</th>\n",
              "      <th>274</th>\n",
              "      <th>275</th>\n",
              "      <th>276</th>\n",
              "      <th>277</th>\n",
              "      <th>278</th>\n",
              "      <th>279</th>\n",
              "      <th>280</th>\n",
              "      <th>281</th>\n",
              "      <th>282</th>\n",
              "      <th>283</th>\n",
              "      <th>284</th>\n",
              "      <th>285</th>\n",
              "      <th>286</th>\n",
              "      <th>287</th>\n",
              "      <th>288</th>\n",
              "      <th>289</th>\n",
              "      <th>290</th>\n",
              "      <th>291</th>\n",
              "      <th>292</th>\n",
              "      <th>293</th>\n",
              "      <th>294</th>\n",
              "      <th>295</th>\n",
              "      <th>296</th>\n",
              "      <th>297</th>\n",
              "      <th>298</th>\n",
              "      <th>299</th>\n",
              "      <th>0file</th>\n",
              "    </tr>\n",
              "  </thead>\n",
              "  <tbody>\n",
              "    <tr>\n",
              "      <th>0</th>\n",
              "      <td>0.018198</td>\n",
              "      <td>0.044626</td>\n",
              "      <td>0.029221</td>\n",
              "      <td>0.114274</td>\n",
              "      <td>-0.040054</td>\n",
              "      <td>-0.018154</td>\n",
              "      <td>-0.000469</td>\n",
              "      <td>-0.082588</td>\n",
              "      <td>0.051520</td>\n",
              "      <td>0.055732</td>\n",
              "      <td>-0.045181</td>\n",
              "      <td>-0.114221</td>\n",
              "      <td>-0.054481</td>\n",
              "      <td>0.009727</td>\n",
              "      <td>-0.097010</td>\n",
              "      <td>0.061535</td>\n",
              "      <td>0.053665</td>\n",
              "      <td>0.102929</td>\n",
              "      <td>0.011613</td>\n",
              "      <td>-0.061160</td>\n",
              "      <td>-0.037943</td>\n",
              "      <td>0.040869</td>\n",
              "      <td>0.068884</td>\n",
              "      <td>-0.007697</td>\n",
              "      <td>0.007207</td>\n",
              "      <td>-0.010008</td>\n",
              "      <td>-0.089893</td>\n",
              "      <td>0.060147</td>\n",
              "      <td>0.022216</td>\n",
              "      <td>-0.013505</td>\n",
              "      <td>0.005475</td>\n",
              "      <td>0.046188</td>\n",
              "      <td>-0.040408</td>\n",
              "      <td>-0.018359</td>\n",
              "      <td>-0.044276</td>\n",
              "      <td>-0.005771</td>\n",
              "      <td>-0.010326</td>\n",
              "      <td>0.043276</td>\n",
              "      <td>0.025405</td>\n",
              "      <td>0.068651</td>\n",
              "      <td>...</td>\n",
              "      <td>-0.003131</td>\n",
              "      <td>-0.038233</td>\n",
              "      <td>0.001674</td>\n",
              "      <td>0.032924</td>\n",
              "      <td>0.094447</td>\n",
              "      <td>-0.023062</td>\n",
              "      <td>-0.011947</td>\n",
              "      <td>-0.048910</td>\n",
              "      <td>-0.018729</td>\n",
              "      <td>-0.009933</td>\n",
              "      <td>0.068761</td>\n",
              "      <td>0.082313</td>\n",
              "      <td>0.039279</td>\n",
              "      <td>0.065177</td>\n",
              "      <td>-0.054247</td>\n",
              "      <td>-0.062719</td>\n",
              "      <td>-0.103622</td>\n",
              "      <td>-0.059352</td>\n",
              "      <td>0.028182</td>\n",
              "      <td>0.002008</td>\n",
              "      <td>0.000323</td>\n",
              "      <td>0.029794</td>\n",
              "      <td>0.063573</td>\n",
              "      <td>0.015085</td>\n",
              "      <td>0.013972</td>\n",
              "      <td>-0.053627</td>\n",
              "      <td>-0.021785</td>\n",
              "      <td>0.003510</td>\n",
              "      <td>0.015722</td>\n",
              "      <td>-0.018123</td>\n",
              "      <td>0.045903</td>\n",
              "      <td>-0.104959</td>\n",
              "      <td>0.022389</td>\n",
              "      <td>-0.053999</td>\n",
              "      <td>-0.041609</td>\n",
              "      <td>-0.005899</td>\n",
              "      <td>-0.055441</td>\n",
              "      <td>-0.006187</td>\n",
              "      <td>0.019514</td>\n",
              "      <td>file_2644.txt</td>\n",
              "    </tr>\n",
              "    <tr>\n",
              "      <th>1</th>\n",
              "      <td>0.051512</td>\n",
              "      <td>0.040707</td>\n",
              "      <td>0.031853</td>\n",
              "      <td>0.077093</td>\n",
              "      <td>-0.050945</td>\n",
              "      <td>-0.030842</td>\n",
              "      <td>0.028621</td>\n",
              "      <td>-0.089511</td>\n",
              "      <td>0.066415</td>\n",
              "      <td>0.076311</td>\n",
              "      <td>-0.039354</td>\n",
              "      <td>-0.110417</td>\n",
              "      <td>-0.020285</td>\n",
              "      <td>0.014459</td>\n",
              "      <td>-0.101189</td>\n",
              "      <td>0.049245</td>\n",
              "      <td>0.044111</td>\n",
              "      <td>0.095099</td>\n",
              "      <td>0.015709</td>\n",
              "      <td>-0.051280</td>\n",
              "      <td>-0.017178</td>\n",
              "      <td>0.063895</td>\n",
              "      <td>0.016417</td>\n",
              "      <td>-0.015360</td>\n",
              "      <td>0.037992</td>\n",
              "      <td>-0.040598</td>\n",
              "      <td>-0.076229</td>\n",
              "      <td>0.058830</td>\n",
              "      <td>0.040326</td>\n",
              "      <td>-0.004434</td>\n",
              "      <td>-0.020760</td>\n",
              "      <td>0.022772</td>\n",
              "      <td>-0.055106</td>\n",
              "      <td>0.000795</td>\n",
              "      <td>-0.003474</td>\n",
              "      <td>-0.031029</td>\n",
              "      <td>0.010205</td>\n",
              "      <td>0.008735</td>\n",
              "      <td>0.021876</td>\n",
              "      <td>0.058820</td>\n",
              "      <td>...</td>\n",
              "      <td>-0.005563</td>\n",
              "      <td>-0.054537</td>\n",
              "      <td>0.025243</td>\n",
              "      <td>0.053733</td>\n",
              "      <td>0.120033</td>\n",
              "      <td>-0.010281</td>\n",
              "      <td>0.004869</td>\n",
              "      <td>-0.049528</td>\n",
              "      <td>-0.011786</td>\n",
              "      <td>0.024220</td>\n",
              "      <td>0.083910</td>\n",
              "      <td>0.080570</td>\n",
              "      <td>0.027076</td>\n",
              "      <td>0.060135</td>\n",
              "      <td>-0.055828</td>\n",
              "      <td>-0.054877</td>\n",
              "      <td>-0.106980</td>\n",
              "      <td>-0.034053</td>\n",
              "      <td>-0.009890</td>\n",
              "      <td>0.015696</td>\n",
              "      <td>-0.023937</td>\n",
              "      <td>0.016536</td>\n",
              "      <td>0.064059</td>\n",
              "      <td>0.032072</td>\n",
              "      <td>0.014817</td>\n",
              "      <td>-0.066752</td>\n",
              "      <td>-0.008264</td>\n",
              "      <td>0.005825</td>\n",
              "      <td>0.034637</td>\n",
              "      <td>-0.063916</td>\n",
              "      <td>0.022181</td>\n",
              "      <td>-0.094670</td>\n",
              "      <td>0.011859</td>\n",
              "      <td>-0.037805</td>\n",
              "      <td>-0.003549</td>\n",
              "      <td>0.009859</td>\n",
              "      <td>-0.044397</td>\n",
              "      <td>0.020011</td>\n",
              "      <td>-0.006038</td>\n",
              "      <td>file_2645.txt</td>\n",
              "    </tr>\n",
              "    <tr>\n",
              "      <th>2</th>\n",
              "      <td>0.037229</td>\n",
              "      <td>0.040462</td>\n",
              "      <td>0.022106</td>\n",
              "      <td>0.097785</td>\n",
              "      <td>-0.063829</td>\n",
              "      <td>-0.023708</td>\n",
              "      <td>0.010958</td>\n",
              "      <td>-0.087613</td>\n",
              "      <td>0.068865</td>\n",
              "      <td>0.049839</td>\n",
              "      <td>-0.050469</td>\n",
              "      <td>-0.131115</td>\n",
              "      <td>-0.045793</td>\n",
              "      <td>-0.000968</td>\n",
              "      <td>-0.098539</td>\n",
              "      <td>0.069786</td>\n",
              "      <td>0.054320</td>\n",
              "      <td>0.100287</td>\n",
              "      <td>0.019829</td>\n",
              "      <td>-0.064366</td>\n",
              "      <td>-0.029129</td>\n",
              "      <td>0.052875</td>\n",
              "      <td>0.047220</td>\n",
              "      <td>-0.021702</td>\n",
              "      <td>0.014436</td>\n",
              "      <td>-0.009913</td>\n",
              "      <td>-0.097177</td>\n",
              "      <td>0.050688</td>\n",
              "      <td>0.025023</td>\n",
              "      <td>0.000357</td>\n",
              "      <td>0.004987</td>\n",
              "      <td>0.026958</td>\n",
              "      <td>-0.054380</td>\n",
              "      <td>-0.004398</td>\n",
              "      <td>-0.009532</td>\n",
              "      <td>-0.014022</td>\n",
              "      <td>0.004467</td>\n",
              "      <td>0.030410</td>\n",
              "      <td>0.032064</td>\n",
              "      <td>0.057278</td>\n",
              "      <td>...</td>\n",
              "      <td>-0.007790</td>\n",
              "      <td>-0.039488</td>\n",
              "      <td>0.024666</td>\n",
              "      <td>0.037175</td>\n",
              "      <td>0.114121</td>\n",
              "      <td>-0.004061</td>\n",
              "      <td>-0.005617</td>\n",
              "      <td>-0.051336</td>\n",
              "      <td>-0.024506</td>\n",
              "      <td>0.029563</td>\n",
              "      <td>0.065577</td>\n",
              "      <td>0.088678</td>\n",
              "      <td>0.053199</td>\n",
              "      <td>0.042148</td>\n",
              "      <td>-0.063362</td>\n",
              "      <td>-0.054529</td>\n",
              "      <td>-0.105451</td>\n",
              "      <td>-0.054931</td>\n",
              "      <td>0.010877</td>\n",
              "      <td>0.003225</td>\n",
              "      <td>-0.006543</td>\n",
              "      <td>0.024976</td>\n",
              "      <td>0.070356</td>\n",
              "      <td>0.020844</td>\n",
              "      <td>0.023846</td>\n",
              "      <td>-0.047246</td>\n",
              "      <td>-0.017209</td>\n",
              "      <td>0.013829</td>\n",
              "      <td>0.034229</td>\n",
              "      <td>-0.056800</td>\n",
              "      <td>0.041335</td>\n",
              "      <td>-0.094746</td>\n",
              "      <td>0.025605</td>\n",
              "      <td>-0.050767</td>\n",
              "      <td>-0.027574</td>\n",
              "      <td>-0.000033</td>\n",
              "      <td>-0.067148</td>\n",
              "      <td>0.009308</td>\n",
              "      <td>0.000077</td>\n",
              "      <td>file_2639.txt</td>\n",
              "    </tr>\n",
              "    <tr>\n",
              "      <th>3</th>\n",
              "      <td>0.018072</td>\n",
              "      <td>0.039623</td>\n",
              "      <td>0.014473</td>\n",
              "      <td>0.112143</td>\n",
              "      <td>-0.064708</td>\n",
              "      <td>-0.024511</td>\n",
              "      <td>0.001364</td>\n",
              "      <td>-0.097545</td>\n",
              "      <td>0.056539</td>\n",
              "      <td>0.055179</td>\n",
              "      <td>-0.054712</td>\n",
              "      <td>-0.136767</td>\n",
              "      <td>-0.042074</td>\n",
              "      <td>-0.004972</td>\n",
              "      <td>-0.104225</td>\n",
              "      <td>0.066391</td>\n",
              "      <td>0.051804</td>\n",
              "      <td>0.112859</td>\n",
              "      <td>0.034542</td>\n",
              "      <td>-0.056317</td>\n",
              "      <td>-0.038140</td>\n",
              "      <td>0.047600</td>\n",
              "      <td>0.074735</td>\n",
              "      <td>-0.025814</td>\n",
              "      <td>0.015948</td>\n",
              "      <td>-0.004459</td>\n",
              "      <td>-0.103277</td>\n",
              "      <td>0.061238</td>\n",
              "      <td>0.037522</td>\n",
              "      <td>-0.015130</td>\n",
              "      <td>-0.013890</td>\n",
              "      <td>0.039557</td>\n",
              "      <td>-0.049308</td>\n",
              "      <td>-0.030748</td>\n",
              "      <td>-0.034159</td>\n",
              "      <td>-0.019955</td>\n",
              "      <td>0.010200</td>\n",
              "      <td>0.046962</td>\n",
              "      <td>0.025266</td>\n",
              "      <td>0.060281</td>\n",
              "      <td>...</td>\n",
              "      <td>-0.017011</td>\n",
              "      <td>-0.041929</td>\n",
              "      <td>0.008012</td>\n",
              "      <td>0.032387</td>\n",
              "      <td>0.100329</td>\n",
              "      <td>-0.016538</td>\n",
              "      <td>-0.001011</td>\n",
              "      <td>-0.030402</td>\n",
              "      <td>-0.031034</td>\n",
              "      <td>0.002280</td>\n",
              "      <td>0.086845</td>\n",
              "      <td>0.103354</td>\n",
              "      <td>0.063742</td>\n",
              "      <td>0.056119</td>\n",
              "      <td>-0.057853</td>\n",
              "      <td>-0.050151</td>\n",
              "      <td>-0.123249</td>\n",
              "      <td>-0.053748</td>\n",
              "      <td>0.030366</td>\n",
              "      <td>0.010639</td>\n",
              "      <td>-0.003666</td>\n",
              "      <td>0.032894</td>\n",
              "      <td>0.073165</td>\n",
              "      <td>0.015585</td>\n",
              "      <td>0.008754</td>\n",
              "      <td>-0.053284</td>\n",
              "      <td>-0.040355</td>\n",
              "      <td>0.011283</td>\n",
              "      <td>0.033266</td>\n",
              "      <td>-0.028795</td>\n",
              "      <td>0.053575</td>\n",
              "      <td>-0.082977</td>\n",
              "      <td>0.024344</td>\n",
              "      <td>-0.069255</td>\n",
              "      <td>-0.048858</td>\n",
              "      <td>0.015715</td>\n",
              "      <td>-0.057526</td>\n",
              "      <td>-0.004622</td>\n",
              "      <td>0.013169</td>\n",
              "      <td>file_2647.txt</td>\n",
              "    </tr>\n",
              "    <tr>\n",
              "      <th>4</th>\n",
              "      <td>0.021606</td>\n",
              "      <td>0.023598</td>\n",
              "      <td>0.014492</td>\n",
              "      <td>0.094708</td>\n",
              "      <td>-0.042444</td>\n",
              "      <td>-0.027072</td>\n",
              "      <td>0.018890</td>\n",
              "      <td>-0.080777</td>\n",
              "      <td>0.051512</td>\n",
              "      <td>0.052879</td>\n",
              "      <td>-0.062061</td>\n",
              "      <td>-0.122351</td>\n",
              "      <td>-0.034222</td>\n",
              "      <td>-0.011039</td>\n",
              "      <td>-0.117139</td>\n",
              "      <td>0.073524</td>\n",
              "      <td>0.068160</td>\n",
              "      <td>0.116556</td>\n",
              "      <td>0.030134</td>\n",
              "      <td>-0.084146</td>\n",
              "      <td>-0.023731</td>\n",
              "      <td>0.066918</td>\n",
              "      <td>0.089119</td>\n",
              "      <td>-0.023544</td>\n",
              "      <td>-0.003226</td>\n",
              "      <td>-0.027087</td>\n",
              "      <td>-0.090558</td>\n",
              "      <td>0.062889</td>\n",
              "      <td>0.034470</td>\n",
              "      <td>-0.010231</td>\n",
              "      <td>-0.018225</td>\n",
              "      <td>0.054206</td>\n",
              "      <td>-0.048264</td>\n",
              "      <td>-0.020535</td>\n",
              "      <td>-0.031102</td>\n",
              "      <td>-0.013298</td>\n",
              "      <td>0.010180</td>\n",
              "      <td>0.051835</td>\n",
              "      <td>0.025862</td>\n",
              "      <td>0.073322</td>\n",
              "      <td>...</td>\n",
              "      <td>-0.010276</td>\n",
              "      <td>-0.036820</td>\n",
              "      <td>0.001035</td>\n",
              "      <td>0.028786</td>\n",
              "      <td>0.113785</td>\n",
              "      <td>-0.026366</td>\n",
              "      <td>-0.005381</td>\n",
              "      <td>-0.063397</td>\n",
              "      <td>-0.032146</td>\n",
              "      <td>-0.019638</td>\n",
              "      <td>0.077253</td>\n",
              "      <td>0.078259</td>\n",
              "      <td>0.050232</td>\n",
              "      <td>0.049153</td>\n",
              "      <td>-0.051166</td>\n",
              "      <td>-0.045215</td>\n",
              "      <td>-0.110867</td>\n",
              "      <td>-0.068711</td>\n",
              "      <td>0.017452</td>\n",
              "      <td>0.025007</td>\n",
              "      <td>-0.016007</td>\n",
              "      <td>0.038154</td>\n",
              "      <td>0.063641</td>\n",
              "      <td>0.021429</td>\n",
              "      <td>-0.010459</td>\n",
              "      <td>-0.029507</td>\n",
              "      <td>-0.025063</td>\n",
              "      <td>0.009111</td>\n",
              "      <td>0.010676</td>\n",
              "      <td>-0.016528</td>\n",
              "      <td>0.071323</td>\n",
              "      <td>-0.098340</td>\n",
              "      <td>0.028118</td>\n",
              "      <td>-0.069391</td>\n",
              "      <td>-0.054087</td>\n",
              "      <td>-0.001299</td>\n",
              "      <td>-0.074345</td>\n",
              "      <td>-0.021616</td>\n",
              "      <td>0.015386</td>\n",
              "      <td>file_2649.txt</td>\n",
              "    </tr>\n",
              "  </tbody>\n",
              "</table>\n",
              "<p>5 rows × 301 columns</p>\n",
              "</div>"
            ],
            "text/plain": [
              "          0         1         2  ...       298       299          0file\n",
              "0  0.018198  0.044626  0.029221  ... -0.006187  0.019514  file_2644.txt\n",
              "1  0.051512  0.040707  0.031853  ...  0.020011 -0.006038  file_2645.txt\n",
              "2  0.037229  0.040462  0.022106  ...  0.009308  0.000077  file_2639.txt\n",
              "3  0.018072  0.039623  0.014473  ... -0.004622  0.013169  file_2647.txt\n",
              "4  0.021606  0.023598  0.014492  ... -0.021616  0.015386  file_2649.txt\n",
              "\n",
              "[5 rows x 301 columns]"
            ]
          },
          "metadata": {
            "tags": []
          },
          "execution_count": 12
        }
      ]
    },
    {
      "cell_type": "code",
      "metadata": {
        "id": "RBrXkF94K4Wa",
        "colab_type": "code",
        "colab": {}
      },
      "source": [
        "train_df=pd.read_csv('/content/drive/My Drive/Movie_test_train_data/Train.csv')\n",
        "train_df=pd.merge(train_df, vec_df, how='inner', left_on='File_Name',right_on='0file')\n",
        "train_df.drop(columns='0file', axis=1, inplace=True)"
      ],
      "execution_count": 0,
      "outputs": []
    },
    {
      "cell_type": "code",
      "metadata": {
        "id": "rU6xD_-e2mSw",
        "colab_type": "code",
        "colab": {}
      },
      "source": [
        "#saving the vectorized form in pickle file\n",
        "with open('/content/drive/My Drive/W2V_data.pkl','wb') as f:\n",
        "  pickle.dump(train_df, f)\n"
      ],
      "execution_count": 0,
      "outputs": []
    },
    {
      "cell_type": "code",
      "metadata": {
        "id": "eUzMWxL0ajh1",
        "colab_type": "code",
        "colab": {}
      },
      "source": [
        "###################################### Simple model ###################################### "
      ],
      "execution_count": 0,
      "outputs": []
    },
    {
      "cell_type": "code",
      "metadata": {
        "id": "XQdAJ1IyajgK",
        "colab_type": "code",
        "colab": {}
      },
      "source": [
        "X=train_df.iloc[:, 2:].values\n",
        "Y=train_df.iloc[:, 1].values"
      ],
      "execution_count": 0,
      "outputs": []
    },
    {
      "cell_type": "code",
      "metadata": {
        "id": "HL3Sy3zKajd8",
        "colab_type": "code",
        "colab": {}
      },
      "source": [
        "from sklearn.model_selection import train_test_split\n",
        "x_train, x_test, y_train, y_test = train_test_split(X, Y, test_size=0.2, random_state=0)"
      ],
      "execution_count": 0,
      "outputs": []
    },
    {
      "cell_type": "code",
      "metadata": {
        "id": "OtC4gQzHajbH",
        "colab_type": "code",
        "colab": {}
      },
      "source": [
        "from sklearn.linear_model import LogisticRegression\n",
        "from sklearn.ensemble import RandomForestClassifier\n",
        "clf=RandomForestClassifier().fit(x_train, y_train)"
      ],
      "execution_count": 0,
      "outputs": []
    },
    {
      "cell_type": "code",
      "metadata": {
        "id": "WhWzZQ4OajYl",
        "colab_type": "code",
        "colab": {}
      },
      "source": [
        "pred=clf.predict(x_test)"
      ],
      "execution_count": 0,
      "outputs": []
    },
    {
      "cell_type": "code",
      "metadata": {
        "id": "o2jFawerajUK",
        "colab_type": "code",
        "outputId": "c68be022-8f46-4622-dea5-a39419db2778",
        "colab": {
          "base_uri": "https://localhost:8080/",
          "height": 34
        }
      },
      "source": [
        "from sklearn.metrics import accuracy_score, precision_score, recall_score\n",
        "print(accuracy_score(y_test, pred))\n",
        "# print(precision_score(y_test, log_pred, average='weighted'))\n",
        "# print(recall_score(y_test, log_pred, average='weighted'))"
      ],
      "execution_count": 0,
      "outputs": [
        {
          "output_type": "stream",
          "text": [
            "0.05555555555555555\n"
          ],
          "name": "stdout"
        }
      ]
    }
  ]
}